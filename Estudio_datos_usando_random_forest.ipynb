{
 "cells": [
  {
   "cell_type": "code",
   "execution_count": 1,
   "metadata": {},
   "outputs": [],
   "source": [
    "import numpy as np\n",
    "import pandas as pd\n",
    "import seaborn as sns\n",
    "from sklearn.preprocessing import StandardScaler, Normalizer\n",
    "from sklearn.pipeline import make_pipeline\n",
    "from sklearn.model_selection import train_test_split\n",
    "from sklearn.ensemble import RandomForestRegressor\n",
    "from sklearn.metrics import r2_score,mean_absolute_error,mean_squared_error,explained_variance_score\n",
    "from sklearn.model_selection import cross_val_score\n",
    "train_df = pd.read_csv('datos limpios')"
   ]
  },
  {
   "cell_type": "code",
   "execution_count": 2,
   "metadata": {},
   "outputs": [
    {
     "data": {
      "text/html": [
       "<div>\n",
       "<style scoped>\n",
       "    .dataframe tbody tr th:only-of-type {\n",
       "        vertical-align: middle;\n",
       "    }\n",
       "\n",
       "    .dataframe tbody tr th {\n",
       "        vertical-align: top;\n",
       "    }\n",
       "\n",
       "    .dataframe thead th {\n",
       "        text-align: right;\n",
       "    }\n",
       "</style>\n",
       "<table border=\"1\" class=\"dataframe\">\n",
       "  <thead>\n",
       "    <tr style=\"text-align: right;\">\n",
       "      <th></th>\n",
       "      <th>Unnamed: 0</th>\n",
       "      <th>id</th>\n",
       "      <th>carat</th>\n",
       "      <th>depth</th>\n",
       "      <th>table</th>\n",
       "      <th>x</th>\n",
       "      <th>y</th>\n",
       "      <th>z</th>\n",
       "      <th>price</th>\n",
       "      <th>cut_2</th>\n",
       "      <th>color_2</th>\n",
       "      <th>clarity_2</th>\n",
       "    </tr>\n",
       "  </thead>\n",
       "  <tbody>\n",
       "    <tr>\n",
       "      <th>0</th>\n",
       "      <td>0</td>\n",
       "      <td>0</td>\n",
       "      <td>1.12</td>\n",
       "      <td>61.6</td>\n",
       "      <td>59.0</td>\n",
       "      <td>6.67</td>\n",
       "      <td>6.63</td>\n",
       "      <td>4.10</td>\n",
       "      <td>5363</td>\n",
       "      <td>3</td>\n",
       "      <td>4</td>\n",
       "      <td>2</td>\n",
       "    </tr>\n",
       "    <tr>\n",
       "      <th>1</th>\n",
       "      <td>1</td>\n",
       "      <td>1</td>\n",
       "      <td>1.14</td>\n",
       "      <td>60.0</td>\n",
       "      <td>54.0</td>\n",
       "      <td>6.74</td>\n",
       "      <td>6.97</td>\n",
       "      <td>4.11</td>\n",
       "      <td>5593</td>\n",
       "      <td>4</td>\n",
       "      <td>1</td>\n",
       "      <td>3</td>\n",
       "    </tr>\n",
       "    <tr>\n",
       "      <th>2</th>\n",
       "      <td>2</td>\n",
       "      <td>2</td>\n",
       "      <td>0.90</td>\n",
       "      <td>60.3</td>\n",
       "      <td>63.0</td>\n",
       "      <td>6.12</td>\n",
       "      <td>6.22</td>\n",
       "      <td>3.72</td>\n",
       "      <td>3534</td>\n",
       "      <td>4</td>\n",
       "      <td>0</td>\n",
       "      <td>3</td>\n",
       "    </tr>\n",
       "    <tr>\n",
       "      <th>3</th>\n",
       "      <td>3</td>\n",
       "      <td>3</td>\n",
       "      <td>0.71</td>\n",
       "      <td>61.9</td>\n",
       "      <td>54.0</td>\n",
       "      <td>5.74</td>\n",
       "      <td>5.76</td>\n",
       "      <td>3.56</td>\n",
       "      <td>3212</td>\n",
       "      <td>2</td>\n",
       "      <td>1</td>\n",
       "      <td>4</td>\n",
       "    </tr>\n",
       "    <tr>\n",
       "      <th>4</th>\n",
       "      <td>4</td>\n",
       "      <td>4</td>\n",
       "      <td>0.34</td>\n",
       "      <td>60.0</td>\n",
       "      <td>62.0</td>\n",
       "      <td>4.51</td>\n",
       "      <td>4.55</td>\n",
       "      <td>2.72</td>\n",
       "      <td>447</td>\n",
       "      <td>4</td>\n",
       "      <td>2</td>\n",
       "      <td>3</td>\n",
       "    </tr>\n",
       "  </tbody>\n",
       "</table>\n",
       "</div>"
      ],
      "text/plain": [
       "   Unnamed: 0  id  carat  depth  table     x     y     z  price  cut_2  \\\n",
       "0           0   0   1.12   61.6   59.0  6.67  6.63  4.10   5363      3   \n",
       "1           1   1   1.14   60.0   54.0  6.74  6.97  4.11   5593      4   \n",
       "2           2   2   0.90   60.3   63.0  6.12  6.22  3.72   3534      4   \n",
       "3           3   3   0.71   61.9   54.0  5.74  5.76  3.56   3212      2   \n",
       "4           4   4   0.34   60.0   62.0  4.51  4.55  2.72    447      4   \n",
       "\n",
       "   color_2  clarity_2  \n",
       "0        4          2  \n",
       "1        1          3  \n",
       "2        0          3  \n",
       "3        1          4  \n",
       "4        2          3  "
      ]
     },
     "execution_count": 2,
     "metadata": {},
     "output_type": "execute_result"
    }
   ],
   "source": [
    "train_df.head()"
   ]
  },
  {
   "cell_type": "code",
   "execution_count": 3,
   "metadata": {},
   "outputs": [],
   "source": [
    "# Ground Truth\n",
    "y = train_df[\"price\"]\n",
    "\n",
    "# Features\n",
    "X = train_df[[\"carat\",\"x\",\"y\",\"z\",\"color_2\",\"table\", \"depth\"]]"
   ]
  },
  {
   "cell_type": "markdown",
   "metadata": {},
   "source": [
    "## Datos Standarizados & normalizados"
   ]
  },
  {
   "cell_type": "markdown",
   "metadata": {},
   "source": [
    "Una vez definido el Ground truth se realiza una estandarización de los datos y una normalización,para que todas las variables tengan el mismo peso."
   ]
  },
  {
   "cell_type": "code",
   "execution_count": 4,
   "metadata": {},
   "outputs": [
    {
     "data": {
      "text/html": [
       "<div>\n",
       "<style scoped>\n",
       "    .dataframe tbody tr th:only-of-type {\n",
       "        vertical-align: middle;\n",
       "    }\n",
       "\n",
       "    .dataframe tbody tr th {\n",
       "        vertical-align: top;\n",
       "    }\n",
       "\n",
       "    .dataframe thead th {\n",
       "        text-align: right;\n",
       "    }\n",
       "</style>\n",
       "<table border=\"1\" class=\"dataframe\">\n",
       "  <thead>\n",
       "    <tr style=\"text-align: right;\">\n",
       "      <th></th>\n",
       "      <th>carat</th>\n",
       "      <th>x</th>\n",
       "      <th>y</th>\n",
       "      <th>z</th>\n",
       "      <th>color_2</th>\n",
       "      <th>table</th>\n",
       "      <th>depth</th>\n",
       "    </tr>\n",
       "  </thead>\n",
       "  <tbody>\n",
       "    <tr>\n",
       "      <th>0</th>\n",
       "      <td>0.359129</td>\n",
       "      <td>0.442777</td>\n",
       "      <td>0.411213</td>\n",
       "      <td>0.418538</td>\n",
       "      <td>0.438222</td>\n",
       "      <td>0.368500</td>\n",
       "      <td>-0.053614</td>\n",
       "    </tr>\n",
       "    <tr>\n",
       "      <th>1</th>\n",
       "      <td>0.256414</td>\n",
       "      <td>0.319837</td>\n",
       "      <td>0.381466</td>\n",
       "      <td>0.286362</td>\n",
       "      <td>-0.334001</td>\n",
       "      <td>-0.552338</td>\n",
       "      <td>-0.433363</td>\n",
       "    </tr>\n",
       "    <tr>\n",
       "      <th>2</th>\n",
       "      <td>0.067963</td>\n",
       "      <td>0.109637</td>\n",
       "      <td>0.133204</td>\n",
       "      <td>0.080834</td>\n",
       "      <td>-0.483440</td>\n",
       "      <td>0.789611</td>\n",
       "      <td>-0.319192</td>\n",
       "    </tr>\n",
       "    <tr>\n",
       "      <th>3</th>\n",
       "      <td>-0.101660</td>\n",
       "      <td>0.004283</td>\n",
       "      <td>0.011762</td>\n",
       "      <td>0.016433</td>\n",
       "      <td>-0.513749</td>\n",
       "      <td>-0.849589</td>\n",
       "      <td>0.059155</td>\n",
       "    </tr>\n",
       "    <tr>\n",
       "      <th>4</th>\n",
       "      <td>-0.300966</td>\n",
       "      <td>-0.339151</td>\n",
       "      <td>-0.320741</td>\n",
       "      <td>-0.359439</td>\n",
       "      <td>-0.109030</td>\n",
       "      <td>0.637452</td>\n",
       "      <td>-0.379596</td>\n",
       "    </tr>\n",
       "    <tr>\n",
       "      <th>...</th>\n",
       "      <td>...</td>\n",
       "      <td>...</td>\n",
       "      <td>...</td>\n",
       "      <td>...</td>\n",
       "      <td>...</td>\n",
       "      <td>...</td>\n",
       "      <td>...</td>\n",
       "    </tr>\n",
       "    <tr>\n",
       "      <th>40450</th>\n",
       "      <td>0.096258</td>\n",
       "      <td>0.159276</td>\n",
       "      <td>0.138065</td>\n",
       "      <td>0.228144</td>\n",
       "      <td>-0.684708</td>\n",
       "      <td>0.110483</td>\n",
       "      <td>0.642824</td>\n",
       "    </tr>\n",
       "    <tr>\n",
       "      <th>40451</th>\n",
       "      <td>-0.318846</td>\n",
       "      <td>-0.352279</td>\n",
       "      <td>-0.341516</td>\n",
       "      <td>-0.336985</td>\n",
       "      <td>-0.515631</td>\n",
       "      <td>-0.523989</td>\n",
       "      <td>0.060042</td>\n",
       "    </tr>\n",
       "    <tr>\n",
       "      <th>40452</th>\n",
       "      <td>0.078667</td>\n",
       "      <td>0.198715</td>\n",
       "      <td>0.208252</td>\n",
       "      <td>0.093564</td>\n",
       "      <td>0.087565</td>\n",
       "      <td>-0.403911</td>\n",
       "      <td>-0.855213</td>\n",
       "    </tr>\n",
       "    <tr>\n",
       "      <th>40453</th>\n",
       "      <td>0.360373</td>\n",
       "      <td>0.332430</td>\n",
       "      <td>0.340493</td>\n",
       "      <td>0.404231</td>\n",
       "      <td>0.343652</td>\n",
       "      <td>-0.271017</td>\n",
       "      <td>0.537343</td>\n",
       "    </tr>\n",
       "    <tr>\n",
       "      <th>40454</th>\n",
       "      <td>-0.412093</td>\n",
       "      <td>-0.417968</td>\n",
       "      <td>-0.422158</td>\n",
       "      <td>-0.424814</td>\n",
       "      <td>0.417028</td>\n",
       "      <td>-0.328884</td>\n",
       "      <td>-0.121330</td>\n",
       "    </tr>\n",
       "  </tbody>\n",
       "</table>\n",
       "<p>40455 rows × 7 columns</p>\n",
       "</div>"
      ],
      "text/plain": [
       "          carat         x         y         z   color_2     table     depth\n",
       "0      0.359129  0.442777  0.411213  0.418538  0.438222  0.368500 -0.053614\n",
       "1      0.256414  0.319837  0.381466  0.286362 -0.334001 -0.552338 -0.433363\n",
       "2      0.067963  0.109637  0.133204  0.080834 -0.483440  0.789611 -0.319192\n",
       "3     -0.101660  0.004283  0.011762  0.016433 -0.513749 -0.849589  0.059155\n",
       "4     -0.300966 -0.339151 -0.320741 -0.359439 -0.109030  0.637452 -0.379596\n",
       "...         ...       ...       ...       ...       ...       ...       ...\n",
       "40450  0.096258  0.159276  0.138065  0.228144 -0.684708  0.110483  0.642824\n",
       "40451 -0.318846 -0.352279 -0.341516 -0.336985 -0.515631 -0.523989  0.060042\n",
       "40452  0.078667  0.198715  0.208252  0.093564  0.087565 -0.403911 -0.855213\n",
       "40453  0.360373  0.332430  0.340493  0.404231  0.343652 -0.271017  0.537343\n",
       "40454 -0.412093 -0.417968 -0.422158 -0.424814  0.417028 -0.328884 -0.121330\n",
       "\n",
       "[40455 rows x 7 columns]"
      ]
     },
     "execution_count": 4,
     "metadata": {},
     "output_type": "execute_result"
    }
   ],
   "source": [
    "pipeline = [\n",
    "    StandardScaler(),\n",
    "    Normalizer()\n",
    "]\n",
    "\n",
    "transformer = make_pipeline(*pipeline)\n",
    "\n",
    "X_data = transformer.fit_transform(X)\n",
    "\n",
    "X_data = pd.DataFrame(X_data, columns=X.columns)\n",
    "X_data"
   ]
  },
  {
   "cell_type": "code",
   "execution_count": 5,
   "metadata": {},
   "outputs": [
    {
     "name": "stdout",
     "output_type": "stream",
     "text": [
      "(32364, 7) (8091, 7) (32364,) (8091,)\n"
     ]
    }
   ],
   "source": [
    "X_train, X_test, y_train, y_test = train_test_split(X_data,y,test_size = 0.2)\n",
    "print(X_train.shape, X_test.shape, y_train.shape, y_test.shape)"
   ]
  },
  {
   "cell_type": "code",
   "execution_count": 6,
   "metadata": {},
   "outputs": [],
   "source": [
    "model = RandomForestRegressor(n_estimators=500,max_features=\"auto\",max_depth=35,n_jobs=-1)\n",
    "model.fit(X_train, y_train)\n",
    "y_pred = model.predict(X_test)"
   ]
  },
  {
   "cell_type": "markdown",
   "metadata": {},
   "source": [
    "Se usan las siguientes métricas para la evaluación del módelo de regresión;\n",
    "\n",
    "*R2_score-->(-infinito-1) Cuanto más se parezca a 1,mejor se ajustará nuestro modelo.\n",
    "*MSE--> error promedio de nuestras predicciones,cuanto mayor sea,peor es nuestro modelo.\n",
    "*MAE--> error promedio de las diferencias absolutas entre valores objetivos/predicción,cuanto menor sea mejor."
   ]
  },
  {
   "cell_type": "code",
   "execution_count": 7,
   "metadata": {},
   "outputs": [
    {
     "name": "stdout",
     "output_type": "stream",
     "text": [
      "R2_score 0.9088984879613355\n",
      "Mean squared error 1188.8619936713453\n",
      "Mean absolute error 642.933737466111\n",
      "explained variance score 0.9089725400060279\n"
     ]
    }
   ],
   "source": [
    "print(\"R2_score\",r2_score(y_test, y_pred))\n",
    "print(\"Mean squared error\",mean_squared_error(y_test, y_pred)**.5)\n",
    "print(\"Mean absolute error\",mean_absolute_error(y_test, y_pred))\n",
    "print(\"explained variance score\",explained_variance_score(y_test, y_pred))"
   ]
  },
  {
   "cell_type": "code",
   "execution_count": 8,
   "metadata": {},
   "outputs": [
    {
     "name": "stdout",
     "output_type": "stream",
     "text": [
      "0.9125679094373919\n"
     ]
    }
   ],
   "source": [
    "scores = cross_val_score(model,X,y, cv=10)\n",
    "print(np.mean(scores))"
   ]
  },
  {
   "cell_type": "markdown",
   "metadata": {},
   "source": [
    "## Datos sin Standarizar & Normalizar"
   ]
  },
  {
   "cell_type": "code",
   "execution_count": 9,
   "metadata": {},
   "outputs": [
    {
     "data": {
      "text/html": [
       "<div>\n",
       "<style scoped>\n",
       "    .dataframe tbody tr th:only-of-type {\n",
       "        vertical-align: middle;\n",
       "    }\n",
       "\n",
       "    .dataframe tbody tr th {\n",
       "        vertical-align: top;\n",
       "    }\n",
       "\n",
       "    .dataframe thead th {\n",
       "        text-align: right;\n",
       "    }\n",
       "</style>\n",
       "<table border=\"1\" class=\"dataframe\">\n",
       "  <thead>\n",
       "    <tr style=\"text-align: right;\">\n",
       "      <th></th>\n",
       "      <th>Unnamed: 0</th>\n",
       "      <th>id</th>\n",
       "      <th>carat</th>\n",
       "      <th>depth</th>\n",
       "      <th>table</th>\n",
       "      <th>x</th>\n",
       "      <th>y</th>\n",
       "      <th>z</th>\n",
       "      <th>price</th>\n",
       "      <th>cut_2</th>\n",
       "      <th>color_2</th>\n",
       "      <th>clarity_2</th>\n",
       "    </tr>\n",
       "  </thead>\n",
       "  <tbody>\n",
       "    <tr>\n",
       "      <th>0</th>\n",
       "      <td>0</td>\n",
       "      <td>0</td>\n",
       "      <td>1.12</td>\n",
       "      <td>61.6</td>\n",
       "      <td>59.0</td>\n",
       "      <td>6.67</td>\n",
       "      <td>6.63</td>\n",
       "      <td>4.10</td>\n",
       "      <td>5363</td>\n",
       "      <td>3</td>\n",
       "      <td>4</td>\n",
       "      <td>2</td>\n",
       "    </tr>\n",
       "    <tr>\n",
       "      <th>1</th>\n",
       "      <td>1</td>\n",
       "      <td>1</td>\n",
       "      <td>1.14</td>\n",
       "      <td>60.0</td>\n",
       "      <td>54.0</td>\n",
       "      <td>6.74</td>\n",
       "      <td>6.97</td>\n",
       "      <td>4.11</td>\n",
       "      <td>5593</td>\n",
       "      <td>4</td>\n",
       "      <td>1</td>\n",
       "      <td>3</td>\n",
       "    </tr>\n",
       "    <tr>\n",
       "      <th>2</th>\n",
       "      <td>2</td>\n",
       "      <td>2</td>\n",
       "      <td>0.90</td>\n",
       "      <td>60.3</td>\n",
       "      <td>63.0</td>\n",
       "      <td>6.12</td>\n",
       "      <td>6.22</td>\n",
       "      <td>3.72</td>\n",
       "      <td>3534</td>\n",
       "      <td>4</td>\n",
       "      <td>0</td>\n",
       "      <td>3</td>\n",
       "    </tr>\n",
       "    <tr>\n",
       "      <th>3</th>\n",
       "      <td>3</td>\n",
       "      <td>3</td>\n",
       "      <td>0.71</td>\n",
       "      <td>61.9</td>\n",
       "      <td>54.0</td>\n",
       "      <td>5.74</td>\n",
       "      <td>5.76</td>\n",
       "      <td>3.56</td>\n",
       "      <td>3212</td>\n",
       "      <td>2</td>\n",
       "      <td>1</td>\n",
       "      <td>4</td>\n",
       "    </tr>\n",
       "    <tr>\n",
       "      <th>4</th>\n",
       "      <td>4</td>\n",
       "      <td>4</td>\n",
       "      <td>0.34</td>\n",
       "      <td>60.0</td>\n",
       "      <td>62.0</td>\n",
       "      <td>4.51</td>\n",
       "      <td>4.55</td>\n",
       "      <td>2.72</td>\n",
       "      <td>447</td>\n",
       "      <td>4</td>\n",
       "      <td>2</td>\n",
       "      <td>3</td>\n",
       "    </tr>\n",
       "  </tbody>\n",
       "</table>\n",
       "</div>"
      ],
      "text/plain": [
       "   Unnamed: 0  id  carat  depth  table     x     y     z  price  cut_2  \\\n",
       "0           0   0   1.12   61.6   59.0  6.67  6.63  4.10   5363      3   \n",
       "1           1   1   1.14   60.0   54.0  6.74  6.97  4.11   5593      4   \n",
       "2           2   2   0.90   60.3   63.0  6.12  6.22  3.72   3534      4   \n",
       "3           3   3   0.71   61.9   54.0  5.74  5.76  3.56   3212      2   \n",
       "4           4   4   0.34   60.0   62.0  4.51  4.55  2.72    447      4   \n",
       "\n",
       "   color_2  clarity_2  \n",
       "0        4          2  \n",
       "1        1          3  \n",
       "2        0          3  \n",
       "3        1          4  \n",
       "4        2          3  "
      ]
     },
     "execution_count": 9,
     "metadata": {},
     "output_type": "execute_result"
    }
   ],
   "source": [
    "train_df.head()"
   ]
  },
  {
   "cell_type": "code",
   "execution_count": 10,
   "metadata": {},
   "outputs": [],
   "source": [
    "# Ground Truth\n",
    "y = train_df[\"price\"]\n",
    "\n",
    "# Features\n",
    "X = train_df[[\"carat\",\"x\",\"y\",\"z\",\"color_2\",\"table\", \"depth\"]]"
   ]
  },
  {
   "cell_type": "code",
   "execution_count": 11,
   "metadata": {},
   "outputs": [
    {
     "name": "stdout",
     "output_type": "stream",
     "text": [
      "(32364, 7) (8091, 7) (32364,) (8091,)\n"
     ]
    }
   ],
   "source": [
    "X_train, X_test, y_train, y_test = train_test_split(X_data,y,test_size = 0.2)\n",
    "print(X_train.shape, X_test.shape, y_train.shape, y_test.shape)"
   ]
  },
  {
   "cell_type": "code",
   "execution_count": 12,
   "metadata": {},
   "outputs": [],
   "source": [
    "model = RandomForestRegressor(n_estimators=500,max_features=\"auto\",max_depth=35,n_jobs=-1)\n",
    "model.fit(X_train, y_train)\n",
    "y_pred = model.predict(X_test)"
   ]
  },
  {
   "cell_type": "code",
   "execution_count": 13,
   "metadata": {},
   "outputs": [
    {
     "name": "stdout",
     "output_type": "stream",
     "text": [
      "R2_score 0.9133331824312855\n",
      "Mean squared error 1173.59933133906\n",
      "Mean absolute error 643.1676563951927\n",
      "explained variance score 0.9133780519944383\n"
     ]
    }
   ],
   "source": [
    "print(\"R2_score\",r2_score(y_test, y_pred))\n",
    "print(\"Mean squared error\",mean_squared_error(y_test, y_pred)**.5)\n",
    "print(\"Mean absolute error\",mean_absolute_error(y_test, y_pred))\n",
    "print(\"explained variance score\",explained_variance_score(y_test, y_pred))"
   ]
  },
  {
   "cell_type": "code",
   "execution_count": 14,
   "metadata": {},
   "outputs": [
    {
     "name": "stdout",
     "output_type": "stream",
     "text": [
      "0.9126656484714235\n"
     ]
    }
   ],
   "source": [
    "scores = cross_val_score(model,X,y, cv=10)\n",
    "print(np.mean(scores))"
   ]
  },
  {
   "cell_type": "markdown",
   "metadata": {},
   "source": [
    "En ambos casos,parece que no influye demasiado la standarización y la normalización,seguramente porque los datos estan lo suficientemente \"compensados\".En este caso,para unos mismos hyperparametros se podría observar un MSE en el caso de los standarizados,aunque la diferencia no es demasiado grande.En cuando al entrenamiento con el cross al 80% es practicamente igual."
   ]
  },
  {
   "cell_type": "markdown",
   "metadata": {},
   "source": [
    "## Probando con las variables que más peso tienen"
   ]
  },
  {
   "cell_type": "code",
   "execution_count": 15,
   "metadata": {},
   "outputs": [
    {
     "data": {
      "text/html": [
       "<div>\n",
       "<style scoped>\n",
       "    .dataframe tbody tr th:only-of-type {\n",
       "        vertical-align: middle;\n",
       "    }\n",
       "\n",
       "    .dataframe tbody tr th {\n",
       "        vertical-align: top;\n",
       "    }\n",
       "\n",
       "    .dataframe thead th {\n",
       "        text-align: right;\n",
       "    }\n",
       "</style>\n",
       "<table border=\"1\" class=\"dataframe\">\n",
       "  <thead>\n",
       "    <tr style=\"text-align: right;\">\n",
       "      <th></th>\n",
       "      <th>Unnamed: 0</th>\n",
       "      <th>id</th>\n",
       "      <th>carat</th>\n",
       "      <th>depth</th>\n",
       "      <th>table</th>\n",
       "      <th>x</th>\n",
       "      <th>y</th>\n",
       "      <th>z</th>\n",
       "      <th>price</th>\n",
       "      <th>cut_2</th>\n",
       "      <th>color_2</th>\n",
       "      <th>clarity_2</th>\n",
       "    </tr>\n",
       "  </thead>\n",
       "  <tbody>\n",
       "    <tr>\n",
       "      <th>0</th>\n",
       "      <td>0</td>\n",
       "      <td>0</td>\n",
       "      <td>1.12</td>\n",
       "      <td>61.6</td>\n",
       "      <td>59.0</td>\n",
       "      <td>6.67</td>\n",
       "      <td>6.63</td>\n",
       "      <td>4.10</td>\n",
       "      <td>5363</td>\n",
       "      <td>3</td>\n",
       "      <td>4</td>\n",
       "      <td>2</td>\n",
       "    </tr>\n",
       "    <tr>\n",
       "      <th>1</th>\n",
       "      <td>1</td>\n",
       "      <td>1</td>\n",
       "      <td>1.14</td>\n",
       "      <td>60.0</td>\n",
       "      <td>54.0</td>\n",
       "      <td>6.74</td>\n",
       "      <td>6.97</td>\n",
       "      <td>4.11</td>\n",
       "      <td>5593</td>\n",
       "      <td>4</td>\n",
       "      <td>1</td>\n",
       "      <td>3</td>\n",
       "    </tr>\n",
       "    <tr>\n",
       "      <th>2</th>\n",
       "      <td>2</td>\n",
       "      <td>2</td>\n",
       "      <td>0.90</td>\n",
       "      <td>60.3</td>\n",
       "      <td>63.0</td>\n",
       "      <td>6.12</td>\n",
       "      <td>6.22</td>\n",
       "      <td>3.72</td>\n",
       "      <td>3534</td>\n",
       "      <td>4</td>\n",
       "      <td>0</td>\n",
       "      <td>3</td>\n",
       "    </tr>\n",
       "    <tr>\n",
       "      <th>3</th>\n",
       "      <td>3</td>\n",
       "      <td>3</td>\n",
       "      <td>0.71</td>\n",
       "      <td>61.9</td>\n",
       "      <td>54.0</td>\n",
       "      <td>5.74</td>\n",
       "      <td>5.76</td>\n",
       "      <td>3.56</td>\n",
       "      <td>3212</td>\n",
       "      <td>2</td>\n",
       "      <td>1</td>\n",
       "      <td>4</td>\n",
       "    </tr>\n",
       "    <tr>\n",
       "      <th>4</th>\n",
       "      <td>4</td>\n",
       "      <td>4</td>\n",
       "      <td>0.34</td>\n",
       "      <td>60.0</td>\n",
       "      <td>62.0</td>\n",
       "      <td>4.51</td>\n",
       "      <td>4.55</td>\n",
       "      <td>2.72</td>\n",
       "      <td>447</td>\n",
       "      <td>4</td>\n",
       "      <td>2</td>\n",
       "      <td>3</td>\n",
       "    </tr>\n",
       "  </tbody>\n",
       "</table>\n",
       "</div>"
      ],
      "text/plain": [
       "   Unnamed: 0  id  carat  depth  table     x     y     z  price  cut_2  \\\n",
       "0           0   0   1.12   61.6   59.0  6.67  6.63  4.10   5363      3   \n",
       "1           1   1   1.14   60.0   54.0  6.74  6.97  4.11   5593      4   \n",
       "2           2   2   0.90   60.3   63.0  6.12  6.22  3.72   3534      4   \n",
       "3           3   3   0.71   61.9   54.0  5.74  5.76  3.56   3212      2   \n",
       "4           4   4   0.34   60.0   62.0  4.51  4.55  2.72    447      4   \n",
       "\n",
       "   color_2  clarity_2  \n",
       "0        4          2  \n",
       "1        1          3  \n",
       "2        0          3  \n",
       "3        1          4  \n",
       "4        2          3  "
      ]
     },
     "execution_count": 15,
     "metadata": {},
     "output_type": "execute_result"
    }
   ],
   "source": [
    "train_df.head()"
   ]
  },
  {
   "cell_type": "code",
   "execution_count": 16,
   "metadata": {},
   "outputs": [],
   "source": [
    "# Ground Truth\n",
    "y = train_df[\"price\"]\n",
    "\n",
    "# Features\n",
    "X = train_df[[\"carat\",\"x\",\"y\",\"z\"]]"
   ]
  },
  {
   "cell_type": "code",
   "execution_count": 17,
   "metadata": {},
   "outputs": [
    {
     "name": "stdout",
     "output_type": "stream",
     "text": [
      "(32364, 7) (8091, 7) (32364,) (8091,)\n"
     ]
    }
   ],
   "source": [
    "X_train, X_test, y_train, y_test = train_test_split(X_data,y,test_size = 0.2)\n",
    "print(X_train.shape, X_test.shape, y_train.shape, y_test.shape)"
   ]
  },
  {
   "cell_type": "code",
   "execution_count": 18,
   "metadata": {},
   "outputs": [],
   "source": [
    "model = RandomForestRegressor(n_estimators=500,max_features=\"auto\",max_depth=35,n_jobs=-1)\n",
    "model.fit(X_train, y_train)\n",
    "y_pred = model.predict(X_test)"
   ]
  },
  {
   "cell_type": "code",
   "execution_count": 19,
   "metadata": {},
   "outputs": [
    {
     "name": "stdout",
     "output_type": "stream",
     "text": [
      "R2_score 0.9043853430070079\n",
      "Mean squared error 1217.3872521689634\n",
      "Mean absolute error 655.8931954374523\n",
      "explained variance score 0.9043853717746473\n"
     ]
    }
   ],
   "source": [
    "print(\"R2_score\",r2_score(y_test, y_pred))\n",
    "print(\"Mean squared error\",mean_squared_error(y_test, y_pred)**.5)\n",
    "print(\"Mean absolute error\",mean_absolute_error(y_test, y_pred))\n",
    "print(\"explained variance score\",explained_variance_score(y_test, y_pred))"
   ]
  },
  {
   "cell_type": "code",
   "execution_count": 20,
   "metadata": {},
   "outputs": [
    {
     "name": "stdout",
     "output_type": "stream",
     "text": [
      "0.8685986289594133\n"
     ]
    }
   ],
   "source": [
    "scores = cross_val_score(model,X,y, cv=10)\n",
    "print(np.mean(scores))"
   ]
  },
  {
   "cell_type": "markdown",
   "metadata": {},
   "source": [
    "En este caso se observa que aunque estas variables no tengan casi peso,según la matriz de correlación si que influyen bastante en nuestro modelo.Es necesario el uso de estas."
   ]
  },
  {
   "cell_type": "markdown",
   "metadata": {},
   "source": [
    "## Conclusión\n",
    "\n",
    "Usaremos los datos sin standarizar y nomalizar,ya que parece que no influye demasiado en este caso,que los datos son bastante homogeneos.Y todas las variables."
   ]
  },
  {
   "cell_type": "code",
   "execution_count": null,
   "metadata": {},
   "outputs": [],
   "source": []
  },
  {
   "cell_type": "code",
   "execution_count": null,
   "metadata": {},
   "outputs": [],
   "source": []
  },
  {
   "cell_type": "code",
   "execution_count": null,
   "metadata": {},
   "outputs": [],
   "source": []
  }
 ],
 "metadata": {
  "kernelspec": {
   "display_name": "Python 3",
   "language": "python",
   "name": "python3"
  },
  "language_info": {
   "codemirror_mode": {
    "name": "ipython",
    "version": 3
   },
   "file_extension": ".py",
   "mimetype": "text/x-python",
   "name": "python",
   "nbconvert_exporter": "python",
   "pygments_lexer": "ipython3",
   "version": "3.8.2"
  }
 },
 "nbformat": 4,
 "nbformat_minor": 4
}
